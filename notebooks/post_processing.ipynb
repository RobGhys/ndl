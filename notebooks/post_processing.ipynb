{
 "cells": [
  {
   "cell_type": "code",
   "execution_count": 61,
   "id": "initial_id",
   "metadata": {
    "collapsed": true,
    "ExecuteTime": {
     "end_time": "2023-11-29T15:35:06.638034257Z",
     "start_time": "2023-11-29T15:35:06.517908035Z"
    }
   },
   "outputs": [],
   "source": [
    "from pathlib import Path\n",
    "import numpy as np\n",
    "import pandas as pd"
   ]
  },
  {
   "cell_type": "code",
   "execution_count": 62,
   "outputs": [],
   "source": [
    "def post_process_w_exp_decay(df: pd.DataFrame, a: float, b: np.array, t: int) -> None:\n",
    "    df['post_proba'] = np.nan\n",
    "    df['post_pred'] = np.nan\n",
    "\n",
    "    for i, row in df.iterrows():\n",
    "        t_frame = row['proba_avg']\n",
    "        t_minus_frames = df['proba_avg'].iloc[max(0, i - t):i].to_numpy()\n",
    "        adjusted_b = b[:len(t_minus_frames)]\n",
    "\n",
    "        post_proba = t_frame * a + np.dot(t_minus_frames, adjusted_b) if len(t_minus_frames) == t else t_frame\n",
    "        df.at[i, 'post_proba'] = post_proba\n",
    "\n",
    "        df.at[i, 'post_pred'] = 1 if post_proba > 0.5 else 0"
   ],
   "metadata": {
    "collapsed": false,
    "ExecuteTime": {
     "end_time": "2023-11-29T15:35:06.673407888Z",
     "start_time": "2023-11-29T15:35:06.561441141Z"
    }
   },
   "id": "37e567757c69ab88"
  },
  {
   "cell_type": "code",
   "execution_count": 63,
   "outputs": [],
   "source": [
    "def compute_rate(target_rate: float, t: int, verbose: bool = False) -> np.array:\n",
    "    result = np.zeros(t)\n",
    "    current_rate = target_rate\n",
    "    for i in range(t - 1):\n",
    "        current_rate = current_rate / 2\n",
    "        if verbose: print(f'Current rate: {current_rate}')\n",
    "        result[i] = current_rate\n",
    "    # last rate is the difference between target, and what we currently have\n",
    "    result[-1] = target_rate - np.sum(result)\n",
    "    if verbose: print(f'Last rate: {result[-1]}')\n",
    "\n",
    "    # Reverse the array so that higher rates come near the end\n",
    "    result = np.flip(result)\n",
    "    if verbose:\n",
    "        print(f'Result: \\n{result}')\n",
    "        print(f'Total = {np.sum(result)}')\n",
    "    return result"
   ],
   "metadata": {
    "collapsed": false,
    "ExecuteTime": {
     "end_time": "2023-11-29T15:35:06.673574623Z",
     "start_time": "2023-11-29T15:35:06.561572498Z"
    }
   },
   "id": "44e1b0c34108c106"
  },
  {
   "cell_type": "code",
   "execution_count": 64,
   "outputs": [],
   "source": [
    "def run_post_processing(df, nb_periods, target_rate):\n",
    "    # Only keep these columns from df\n",
    "    frame_df = df[['frame', 'proba_avg', 'label']].copy()\n",
    "    frame_df = frame_df.sort_values(by='frame')\n",
    "    # Setup post-processing params\n",
    "    b = compute_rate(target_rate, nb_periods)\n",
    "    # Add post-processed probas\n",
    "    post_process_w_exp_decay(frame_df, a=target_rate, b=b, t=nb_periods)\n",
    "\n",
    "    return frame_df"
   ],
   "metadata": {
    "collapsed": false,
    "ExecuteTime": {
     "end_time": "2023-11-29T15:35:06.674787571Z",
     "start_time": "2023-11-29T15:35:06.565311013Z"
    }
   },
   "id": "9a531e6ce12357c2"
  },
  {
   "cell_type": "markdown",
   "source": [
    "### Params"
   ],
   "metadata": {
    "collapsed": false
   },
   "id": "8098e4117fce5c39"
  },
  {
   "cell_type": "code",
   "execution_count": 65,
   "outputs": [],
   "source": [
    "nb_periods = 10\n",
    "target_rate = 0.5"
   ],
   "metadata": {
    "collapsed": false,
    "ExecuteTime": {
     "end_time": "2023-11-29T15:35:06.674859169Z",
     "start_time": "2023-11-29T15:35:06.609298671Z"
    }
   },
   "id": "d8eab492e99aecf3"
  },
  {
   "cell_type": "code",
   "execution_count": 66,
   "outputs": [
    {
     "name": "stdout",
     "output_type": "stream",
     "text": [
      "df -->\n",
      "   frame  proba_avg  label\n",
      "0      0   0.385331      0\n",
      "1      1   0.336946      0\n",
      "2      2   0.287288      0\n",
      "3      3   0.250492      0\n",
      "4      4   0.208195      0\n",
      "rates: [0.00097656 0.00097656 0.00195312 0.00390625 0.0078125  0.015625\n",
      " 0.03125    0.0625     0.125      0.25      ]\n",
      "df -->\n",
      "   frame  proba_avg  label\n",
      "0      0   0.356864      0\n",
      "1      1   0.342509      0\n",
      "2      2   0.329155      0\n",
      "3      3   0.308142      0\n",
      "4      4   0.284622      0\n",
      "rates: [0.00097656 0.00097656 0.00195312 0.00390625 0.0078125  0.015625\n",
      " 0.03125    0.0625     0.125      0.25      ]\n",
      "df -->\n",
      "   frame  proba_avg  label\n",
      "0      0   0.408699      0\n",
      "1      1   0.412212      0\n",
      "2      2   0.419161      0\n",
      "3      3   0.425551      0\n",
      "4      4   0.417779      0\n",
      "rates: [0.00097656 0.00097656 0.00195312 0.00390625 0.0078125  0.015625\n",
      " 0.03125    0.0625     0.125      0.25      ]\n",
      "df -->\n",
      "   frame  proba_avg  label\n",
      "0      0   0.076617      0\n",
      "1      1   0.076671      0\n",
      "2      2   0.078661      0\n",
      "3      3   0.077949      0\n",
      "4      4   0.071098      0\n",
      "rates: [0.00097656 0.00097656 0.00195312 0.00390625 0.0078125  0.015625\n",
      " 0.03125    0.0625     0.125      0.25      ]\n",
      "df -->\n",
      "   frame  proba_avg  label\n",
      "0      0   0.954507      1\n",
      "1      1   0.956578      1\n",
      "2      2   0.957341      1\n",
      "3      3   0.955286      1\n",
      "4      4   0.954374      1\n",
      "rates: [0.00097656 0.00097656 0.00195312 0.00390625 0.0078125  0.015625\n",
      " 0.03125    0.0625     0.125      0.25      ]\n",
      "df -->\n",
      "   frame  proba_avg  label\n",
      "0      0   0.279233      0\n",
      "1      1   0.624414      0\n",
      "2      2   0.445056      0\n",
      "3      3   0.413009      0\n",
      "4      4   0.193733      0\n",
      "rates: [0.00097656 0.00097656 0.00195312 0.00390625 0.0078125  0.015625\n",
      " 0.03125    0.0625     0.125      0.25      ]\n",
      "df -->\n",
      "   frame  proba_avg  label\n",
      "0      0   0.147133      0\n",
      "1      1   0.225178      0\n",
      "2      2   0.432949      0\n",
      "3      3   0.357638      0\n",
      "4      4   0.481288      0\n",
      "rates: [0.00097656 0.00097656 0.00195312 0.00390625 0.0078125  0.015625\n",
      " 0.03125    0.0625     0.125      0.25      ]\n",
      "df -->\n",
      "   frame  proba_avg  label\n",
      "0      0   0.594382      0\n",
      "1      1   0.749950      0\n",
      "2      2   0.651620      0\n",
      "3      3   0.750476      0\n",
      "4      4   0.759086      0\n",
      "rates: [0.00097656 0.00097656 0.00195312 0.00390625 0.0078125  0.015625\n",
      " 0.03125    0.0625     0.125      0.25      ]\n",
      "df -->\n",
      "   frame  proba_avg  label\n",
      "0      0   0.435863      0\n",
      "1      1   0.410807      0\n",
      "2      2   0.583858      0\n",
      "3      3   0.419407      0\n",
      "4      4   0.498137      0\n",
      "rates: [0.00097656 0.00097656 0.00195312 0.00390625 0.0078125  0.015625\n",
      " 0.03125    0.0625     0.125      0.25      ]\n",
      "df -->\n",
      "   frame  proba_avg  label\n",
      "0      0   0.390960      1\n",
      "1      1   0.631833      1\n",
      "2      2   0.602798      1\n",
      "3      3   0.370218      1\n",
      "4      4   0.399618      1\n",
      "rates: [0.00097656 0.00097656 0.00195312 0.00390625 0.0078125  0.015625\n",
      " 0.03125    0.0625     0.125      0.25      ]\n",
      "df -->\n",
      "   frame  proba_avg  label\n",
      "0      0   0.324663      0\n",
      "1      1   0.409732      0\n",
      "2      2   0.415619      0\n",
      "3      3   0.456989      0\n",
      "4      4   0.440663      0\n",
      "rates: [0.00097656 0.00097656 0.00195312 0.00390625 0.0078125  0.015625\n",
      " 0.03125    0.0625     0.125      0.25      ]\n",
      "df -->\n",
      "   frame  proba_avg  label\n",
      "0      0   0.124950      0\n",
      "1      1   0.133925      0\n",
      "2      2   0.167403      0\n",
      "3      3   0.176942      0\n",
      "4      4   0.248469      0\n",
      "rates: [0.00097656 0.00097656 0.00195312 0.00390625 0.0078125  0.015625\n",
      " 0.03125    0.0625     0.125      0.25      ]\n",
      "df -->\n",
      "   frame  proba_avg  label\n",
      "0      0   0.689092      0\n",
      "1      1   0.717333      0\n",
      "2      2   0.679169      0\n",
      "3      3   0.691318      0\n",
      "4      4   0.741616      0\n",
      "rates: [0.00097656 0.00097656 0.00195312 0.00390625 0.0078125  0.015625\n",
      " 0.03125    0.0625     0.125      0.25      ]\n",
      "df -->\n",
      "   frame  proba_avg  label\n",
      "0      0   0.317694      0\n",
      "1      1   0.338637      0\n",
      "2      2   0.365462      0\n",
      "3      3   0.389982      0\n",
      "4      4   0.437763      0\n",
      "rates: [0.00097656 0.00097656 0.00195312 0.00390625 0.0078125  0.015625\n",
      " 0.03125    0.0625     0.125      0.25      ]\n",
      "df -->\n",
      "   frame  proba_avg  label\n",
      "0      0   0.355820      1\n",
      "1      1   0.399182      1\n",
      "2      2   0.424427      1\n",
      "3      3   0.420610      1\n",
      "4      4   0.419470      1\n",
      "rates: [0.00097656 0.00097656 0.00195312 0.00390625 0.0078125  0.015625\n",
      " 0.03125    0.0625     0.125      0.25      ]\n",
      "df -->\n",
      "   frame  proba_avg label\n",
      "0      0   0.000011    no\n",
      "1      1   0.000011    no\n",
      "2      2   0.000011    no\n",
      "3      3   0.000011    no\n",
      "4      4   0.000011    no\n",
      "rates: [0.00097656 0.00097656 0.00195312 0.00390625 0.0078125  0.015625\n",
      " 0.03125    0.0625     0.125      0.25      ]\n",
      "df -->\n",
      "   frame  proba_avg label\n",
      "0      0   0.000031    no\n",
      "1      1   0.000038    no\n",
      "2      2   0.000043    no\n",
      "3      3   0.000045    no\n",
      "4      4   0.000042    no\n",
      "rates: [0.00097656 0.00097656 0.00195312 0.00390625 0.0078125  0.015625\n",
      " 0.03125    0.0625     0.125      0.25      ]\n",
      "df -->\n",
      "   frame  proba_avg label\n",
      "0      0   0.000015    no\n",
      "1      1   0.000015    no\n",
      "2      2   0.000015    no\n",
      "3      3   0.000015    no\n",
      "4      4   0.000014    no\n",
      "rates: [0.00097656 0.00097656 0.00195312 0.00390625 0.0078125  0.015625\n",
      " 0.03125    0.0625     0.125      0.25      ]\n",
      "df -->\n",
      "   frame  proba_avg label\n",
      "0      0   0.999820  spur\n",
      "1      1   0.999825  spur\n",
      "2      2   0.999833  spur\n",
      "3      3   0.999840  spur\n",
      "4      4   0.999845  spur\n",
      "rates: [0.00097656 0.00097656 0.00195312 0.00390625 0.0078125  0.015625\n",
      " 0.03125    0.0625     0.125      0.25      ]\n",
      "df -->\n",
      "   frame  proba_avg label\n",
      "0      0   0.000013    no\n",
      "1      1   0.000014    no\n",
      "2      2   0.000014    no\n",
      "3      3   0.000013    no\n",
      "4      4   0.000016    no\n",
      "rates: [0.00097656 0.00097656 0.00195312 0.00390625 0.0078125  0.015625\n",
      " 0.03125    0.0625     0.125      0.25      ]\n",
      "df -->\n",
      "   frame  proba_avg label\n",
      "0      0   0.489160    no\n",
      "1      1   0.369951    no\n",
      "2      2   0.415979    no\n",
      "3      3   0.301116    no\n",
      "4      4   0.306829    no\n",
      "rates: [0.00097656 0.00097656 0.00195312 0.00390625 0.0078125  0.015625\n",
      " 0.03125    0.0625     0.125      0.25      ]\n",
      "df -->\n",
      "   frame  proba_avg label\n",
      "0      0   0.180745    no\n",
      "1      1   0.343523    no\n",
      "2      2   0.258101    no\n",
      "3      3   0.431509    no\n",
      "4      4   0.399258    no\n",
      "rates: [0.00097656 0.00097656 0.00195312 0.00390625 0.0078125  0.015625\n",
      " 0.03125    0.0625     0.125      0.25      ]\n",
      "df -->\n",
      "   frame  proba_avg label\n",
      "0      0   0.039353    no\n",
      "1      1   0.003263    no\n",
      "2      2   0.004699    no\n",
      "3      3   0.001955    no\n",
      "4      4   0.005312    no\n",
      "rates: [0.00097656 0.00097656 0.00195312 0.00390625 0.0078125  0.015625\n",
      " 0.03125    0.0625     0.125      0.25      ]\n",
      "df -->\n",
      "   frame  proba_avg label\n",
      "0      0   0.802854  spur\n",
      "1      1   0.738234  spur\n",
      "2      2   0.649040  spur\n",
      "3      3   0.850759  spur\n",
      "4      4   0.899032  spur\n",
      "rates: [0.00097656 0.00097656 0.00195312 0.00390625 0.0078125  0.015625\n",
      " 0.03125    0.0625     0.125      0.25      ]\n",
      "df -->\n",
      "   frame  proba_avg label\n",
      "0      0   0.051062    no\n",
      "1      1   0.115148    no\n",
      "2      2   0.115833    no\n",
      "3      3   0.188570    no\n",
      "4      4   0.374796    no\n",
      "rates: [0.00097656 0.00097656 0.00195312 0.00390625 0.0078125  0.015625\n",
      " 0.03125    0.0625     0.125      0.25      ]\n",
      "df -->\n",
      "   frame  proba_avg  label\n",
      "0      0   0.383434      0\n",
      "1      1   0.241880      0\n",
      "2      2   0.153717      0\n",
      "3      3   0.180971      0\n",
      "4      4   0.193026      0\n",
      "rates: [0.00097656 0.00097656 0.00195312 0.00390625 0.0078125  0.015625\n",
      " 0.03125    0.0625     0.125      0.25      ]\n",
      "df -->\n",
      "   frame  proba_avg  label\n",
      "0      0   0.343132      0\n",
      "1      1   0.336717      0\n",
      "2      2   0.340476      0\n",
      "3      3   0.258865      0\n",
      "4      4   0.283907      0\n",
      "rates: [0.00097656 0.00097656 0.00195312 0.00390625 0.0078125  0.015625\n",
      " 0.03125    0.0625     0.125      0.25      ]\n",
      "df -->\n",
      "   frame  proba_avg  label\n",
      "0      0   0.316102      0\n",
      "1      1   0.281673      0\n",
      "2      2   0.277135      0\n",
      "3      3   0.293229      0\n",
      "4      4   0.303400      0\n",
      "rates: [0.00097656 0.00097656 0.00195312 0.00390625 0.0078125  0.015625\n",
      " 0.03125    0.0625     0.125      0.25      ]\n",
      "df -->\n",
      "   frame  proba_avg  label\n",
      "0      0   0.027761      0\n",
      "1      1   0.027090      0\n",
      "2      2   0.028207      0\n",
      "3      3   0.027012      0\n",
      "4      4   0.027763      0\n",
      "rates: [0.00097656 0.00097656 0.00195312 0.00390625 0.0078125  0.015625\n",
      " 0.03125    0.0625     0.125      0.25      ]\n",
      "df -->\n",
      "   frame  proba_avg  label\n",
      "0      0   0.968781      1\n",
      "1      1   0.973184      1\n",
      "2      2   0.974528      1\n",
      "3      3   0.973606      1\n",
      "4      4   0.978757      1\n",
      "rates: [0.00097656 0.00097656 0.00195312 0.00390625 0.0078125  0.015625\n",
      " 0.03125    0.0625     0.125      0.25      ]\n"
     ]
    }
   ],
   "source": [
    "root_sources = Path('../output/benchmarking/sources')\n",
    "output_dir = Path('../output/benchmarking/post_pro_sources')\n",
    "output_dir.mkdir(parents=True, exist_ok=True)  \n",
    "\n",
    "for model_dir in root_sources.iterdir():\n",
    "    if model_dir.is_dir():\n",
    "        for file_path in model_dir.glob('*.csv'):\n",
    "            dataframe = pd.read_csv(file_path)\n",
    "            post_processed_df = run_post_processing(dataframe, nb_periods=nb_periods, target_rate=target_rate)\n",
    "            \n",
    "            output_file = output_dir / model_dir.name / file_path.name\n",
    "            output_file.parent.mkdir(parents=True, exist_ok=True) \n",
    "            post_processed_df.to_csv(output_file, index=False)\n",
    "        "
   ],
   "metadata": {
    "collapsed": false,
    "ExecuteTime": {
     "end_time": "2023-11-29T15:35:23.937085091Z",
     "start_time": "2023-11-29T15:35:06.609395475Z"
    }
   },
   "id": "d45634f7c11812be"
  },
  {
   "cell_type": "code",
   "execution_count": 67,
   "outputs": [
    {
     "ename": "NameError",
     "evalue": "name 'q' is not defined",
     "output_type": "error",
     "traceback": [
      "\u001B[0;31m---------------------------------------------------------------------------\u001B[0m",
      "\u001B[0;31mNameError\u001B[0m                                 Traceback (most recent call last)",
      "Cell \u001B[0;32mIn[67], line 1\u001B[0m\n\u001B[0;32m----> 1\u001B[0m \u001B[43mq\u001B[49m\n",
      "\u001B[0;31mNameError\u001B[0m: name 'q' is not defined"
     ]
    }
   ],
   "source": [
    "q"
   ],
   "metadata": {
    "collapsed": false,
    "ExecuteTime": {
     "end_time": "2023-11-29T15:35:23.955404214Z",
     "start_time": "2023-11-29T15:35:23.946099939Z"
    }
   },
   "id": "73cc3100810de9ae"
  },
  {
   "cell_type": "code",
   "execution_count": null,
   "outputs": [],
   "source": [
    "root_sources = Path('../output/benchmarking/sources')\n",
    "model = 'nnunet'\n",
    "model_source = Path(root_sources / model)\n",
    "video_id = 'id_x1.csv'\n",
    "video_source = Path(model_source / video_id)"
   ],
   "metadata": {
    "collapsed": false,
    "ExecuteTime": {
     "start_time": "2023-11-29T15:35:23.949945097Z"
    }
   },
   "id": "cce7d43c8764c005"
  },
  {
   "cell_type": "code",
   "execution_count": null,
   "outputs": [],
   "source": [
    "dataframe = pd.read_csv(video_source)"
   ],
   "metadata": {
    "collapsed": false,
    "ExecuteTime": {
     "start_time": "2023-11-29T15:35:23.951012766Z"
    }
   },
   "id": "6031192c0b6d014a"
  },
  {
   "cell_type": "code",
   "execution_count": null,
   "outputs": [],
   "source": [
    "dataframe"
   ],
   "metadata": {
    "collapsed": false,
    "ExecuteTime": {
     "start_time": "2023-11-29T15:35:23.952392627Z"
    }
   },
   "id": "1ebca63037f73b95"
  },
  {
   "cell_type": "code",
   "execution_count": null,
   "outputs": [],
   "source": [
    "nb_periods = 5\n",
    "target_rate = 0.5"
   ],
   "metadata": {
    "collapsed": false,
    "ExecuteTime": {
     "end_time": "2023-11-29T15:35:23.997735769Z",
     "start_time": "2023-11-29T15:35:23.997364976Z"
    }
   },
   "id": "5428f3ad48e15105"
  },
  {
   "cell_type": "code",
   "execution_count": null,
   "outputs": [],
   "source": [
    "post_processed_df = run_post_processing(dataframe, nb_periods=nb_periods, target_rate=target_rate)"
   ],
   "metadata": {
    "collapsed": false,
    "ExecuteTime": {
     "start_time": "2023-11-29T15:35:23.997488977Z"
    }
   },
   "id": "6cccadb0a7129a71"
  },
  {
   "cell_type": "code",
   "execution_count": null,
   "outputs": [],
   "source": [
    "post_processed_df"
   ],
   "metadata": {
    "collapsed": false,
    "ExecuteTime": {
     "start_time": "2023-11-29T15:35:23.997541699Z"
    }
   },
   "id": "885b179e59a63ed0"
  },
  {
   "cell_type": "code",
   "execution_count": null,
   "outputs": [],
   "source": [],
   "metadata": {
    "collapsed": false,
    "ExecuteTime": {
     "start_time": "2023-11-29T15:35:23.997568611Z"
    }
   },
   "id": "946feb29fa2a54bd"
  }
 ],
 "metadata": {
  "kernelspec": {
   "display_name": "Python 3",
   "language": "python",
   "name": "python3"
  },
  "language_info": {
   "codemirror_mode": {
    "name": "ipython",
    "version": 2
   },
   "file_extension": ".py",
   "mimetype": "text/x-python",
   "name": "python",
   "nbconvert_exporter": "python",
   "pygments_lexer": "ipython2",
   "version": "2.7.6"
  }
 },
 "nbformat": 4,
 "nbformat_minor": 5
}
