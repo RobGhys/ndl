{
 "cells": [
  {
   "cell_type": "code",
   "execution_count": null,
   "id": "initial_id",
   "metadata": {
    "collapsed": true
   },
   "outputs": [],
   "source": [
    "import json\n",
    "from collections import defaultdict\n",
    "\n",
    "import torch\n",
    "from torch import nn, optim\n",
    "from torch.utils.data import DataLoader\n",
    "import numpy as np\n",
    "import pandas as pd\n",
    "import matplotlib.pyplot as plt\n",
    "\n",
    "from navi.transforms import ToTensor\n",
    "from navi.datasets.seq2seq_embeddings import SequenceToSequenceEmbeddings\n",
    "from navi.datasets.seq2seq_embeddings_full import FullVideoEmbeddings\n",
    "from navi.nn.models_using_embeddings import ResetNet50GRU\n",
    "from navi.trainers.seq2seq import SequenceToSequenceTrainer"
   ]
  },
  {
   "cell_type": "code",
   "execution_count": null,
   "outputs": [],
   "source": [
    "root = \"/run/media/ppoitier/ppoitier/datasets/navi/embeddings\"\n",
    "\n",
    "def load_videos():\n",
    "    videos = pd.read_csv(\"../data/maps/mapping.csv\")\n",
    "    videos = videos.sample(n=20, random_state=42, ignore_index=True)\n",
    "    return videos\n",
    "\n",
    "def load_label_map():\n",
    "    with open(\"../prep/predictions.json\", 'rb') as file:\n",
    "        label_map = json.load(file)\n",
    "    return label_map"
   ],
   "metadata": {
    "collapsed": false
   },
   "id": "aefd5e4e2a79e0eb"
  },
  {
   "cell_type": "code",
   "execution_count": null,
   "outputs": [],
   "source": [
    "transforms = ToTensor()\n",
    "target_transform = ToTensor()\n",
    "\n",
    "dataset = SequenceToSequenceEmbeddings(\n",
    "    root=root,\n",
    "    videos=load_videos(),\n",
    "    label_map=load_label_map(),\n",
    "    window_size=150,\n",
    "    window_stride=130,\n",
    "    transforms=transforms,\n",
    "    target_transforms=target_transform,\n",
    "    drop_empty_windows=True,\n",
    ")\n",
    "\n",
    "data_loader = DataLoader(\n",
    "    dataset,\n",
    "    batch_size=8,\n",
    "    drop_last=True,\n",
    ")"
   ],
   "metadata": {
    "collapsed": false
   },
   "id": "7e98c7237e0969b0"
  },
  {
   "cell_type": "code",
   "execution_count": null,
   "outputs": [],
   "source": [
    "device = 'cuda'\n",
    "model = ResetNet50GRU(input_size=2048, hidden_size=256, n_layers=1)\n",
    "criterion = nn.BCEWithLogitsLoss(pos_weight=torch.tensor(3.71).cuda())\n",
    "optimizer = optim.AdamW(model.parameters(), lr=2e-3)\n",
    "\n",
    "trainer = SequenceToSequenceTrainer(\n",
    "    \"test_fc_resnet\",\n",
    "    model, criterion, optimizer,\n",
    "    fold_nb=0,\n",
    "    device=device,\n",
    "    gradient_clipping=True,\n",
    ")"
   ],
   "metadata": {
    "collapsed": false
   },
   "id": "8eafc450d069f42f"
  },
  {
   "cell_type": "code",
   "execution_count": null,
   "outputs": [],
   "source": [
    "trainer.start_wandb_logging()\n",
    "trainer.launch_training(data_loader, data_loader, n_epochs=100)\n",
    "trainer.stop_wandb_logging()"
   ],
   "metadata": {
    "collapsed": false
   },
   "id": "31aade0d647040fc"
  },
  {
   "cell_type": "code",
   "execution_count": null,
   "outputs": [],
   "source": [
    "example_features, example_target = dataset[0]\n",
    "\n",
    "plt.figure(figsize=(30, 4))\n",
    "plt.scatter(range(len(example_target)), example_target)\n",
    "plt.show()"
   ],
   "metadata": {
    "collapsed": false
   },
   "id": "43a5b1b17c8e01a6"
  },
  {
   "cell_type": "code",
   "execution_count": null,
   "outputs": [],
   "source": [
    "with torch.inference_mode():\n",
    "    x, y = dataset[0]\n",
    "    logits = model(x.cuda().unsqueeze(0)).squeeze()\n",
    "    probabilities = logits.sigmoid()"
   ],
   "metadata": {
    "collapsed": false
   },
   "id": "82dd3848c405c010"
  },
  {
   "cell_type": "code",
   "execution_count": null,
   "outputs": [],
   "source": [
    "plt.figure(figsize=(30, 4))\n",
    "plt.scatter(range(len(example_target)), example_target)\n",
    "plt.plot(probabilities.cpu().numpy())\n",
    "plt.show()"
   ],
   "metadata": {
    "collapsed": false
   },
   "id": "139a9737119d5fa9"
  },
  {
   "cell_type": "code",
   "execution_count": null,
   "outputs": [],
   "source": [
    "counts = defaultdict(lambda: 0)\n",
    "\n",
    "for _, targets in dataset:\n",
    "    counts[0] += (targets == 0).sum().item()\n",
    "    counts[1] += (targets == 1).sum().item()\n",
    "\n",
    "counts = dict(counts)\n",
    "total = sum(counts.values())\n",
    "frequencies = {k: v/total for (k, v) in counts.items()}\n",
    "frequencies"
   ],
   "metadata": {
    "collapsed": false
   },
   "id": "904da17eaf5e1185"
  },
  {
   "cell_type": "code",
   "execution_count": null,
   "outputs": [],
   "source": [
    "pos_weight = 0.78 / 0.21\n",
    "pos_weight"
   ],
   "metadata": {
    "collapsed": false
   },
   "id": "ab165ae31ed44626"
  },
  {
   "cell_type": "code",
   "execution_count": null,
   "outputs": [],
   "source": [],
   "metadata": {
    "collapsed": false
   },
   "id": "ef62fa11cb25b74d"
  }
 ],
 "metadata": {
  "kernelspec": {
   "display_name": "Python 3",
   "language": "python",
   "name": "python3"
  },
  "language_info": {
   "codemirror_mode": {
    "name": "ipython",
    "version": 2
   },
   "file_extension": ".py",
   "mimetype": "text/x-python",
   "name": "python",
   "nbconvert_exporter": "python",
   "pygments_lexer": "ipython2",
   "version": "2.7.6"
  }
 },
 "nbformat": 4,
 "nbformat_minor": 5
}
