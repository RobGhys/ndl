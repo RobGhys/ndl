{
 "cells": [
  {
   "cell_type": "code",
   "execution_count": 12,
   "id": "initial_id",
   "metadata": {
    "collapsed": true,
    "ExecuteTime": {
     "end_time": "2023-11-24T10:14:58.508522201Z",
     "start_time": "2023-11-24T10:14:58.473967573Z"
    }
   },
   "outputs": [],
   "source": [
    "import json\n",
    "import os\n",
    "import glob\n",
    "\n",
    "import pandas as pd\n",
    "import numpy as np\n",
    "from pathlib import Path"
   ]
  },
  {
   "cell_type": "markdown",
   "source": [
    "## Prepare directories"
   ],
   "metadata": {
    "collapsed": false
   },
   "id": "81f574bf0b6f9319"
  },
  {
   "cell_type": "code",
   "execution_count": 13,
   "outputs": [],
   "source": [
    "source_unsorted_dir = Path('../data/unsorted_jsons_nnunet/')"
   ],
   "metadata": {
    "collapsed": false,
    "ExecuteTime": {
     "end_time": "2023-11-24T10:14:58.573870926Z",
     "start_time": "2023-11-24T10:14:58.478430809Z"
    }
   },
   "id": "9b1d3c1ed155160"
  },
  {
   "cell_type": "code",
   "execution_count": 14,
   "outputs": [],
   "source": [
    "source_dir = Path('../data/jsons_nnunet/')"
   ],
   "metadata": {
    "collapsed": false,
    "ExecuteTime": {
     "end_time": "2023-11-24T10:14:58.576217668Z",
     "start_time": "2023-11-24T10:14:58.539165790Z"
    }
   },
   "id": "d0a7a734bab1105f"
  },
  {
   "cell_type": "code",
   "execution_count": 15,
   "outputs": [],
   "source": [
    "dest_dir = Path('../data/embeddings_nnunet')"
   ],
   "metadata": {
    "collapsed": false,
    "ExecuteTime": {
     "end_time": "2023-11-24T10:14:58.576369599Z",
     "start_time": "2023-11-24T10:14:58.539357404Z"
    }
   },
   "id": "b0446c7e6f1996dc"
  },
  {
   "cell_type": "code",
   "execution_count": 16,
   "outputs": [],
   "source": [
    "if not os.path.exists(dest_dir):\n",
    "    os.makedirs(dest_dir)\n",
    "    print(f'Created dir: {dest_dir} ')"
   ],
   "metadata": {
    "collapsed": false,
    "ExecuteTime": {
     "end_time": "2023-11-24T10:14:58.576429236Z",
     "start_time": "2023-11-24T10:14:58.539445433Z"
    }
   },
   "id": "f4a46f8f4ece311d"
  },
  {
   "cell_type": "markdown",
   "source": [
    "### Sort json annotations by frame number"
   ],
   "metadata": {
    "collapsed": false
   },
   "id": "20b82e25ff3903bb"
  },
  {
   "cell_type": "code",
   "execution_count": 17,
   "outputs": [],
   "source": [
    "def sort_json_files(source_folder, dest_folder):\n",
    "    os.makedirs(dest_folder, exist_ok=True)\n",
    "\n",
    "    json_files = glob.glob(os.path.join(source_folder, '*.json'))\n",
    "\n",
    "    for json_file in json_files:\n",
    "        with open(json_file, 'r') as file:\n",
    "            data = json.load(file)\n",
    "\n",
    "        # Sort by frame number\n",
    "        sorted_data = sorted(data, key=lambda x: x['frame'])\n",
    "\n",
    "        new_file_path = os.path.join(dest_folder, os.path.basename(json_file))\n",
    "\n",
    "        with open(new_file_path, 'w') as new_file:\n",
    "            json.dump(sorted_data, new_file, indent=4)"
   ],
   "metadata": {
    "collapsed": false,
    "ExecuteTime": {
     "end_time": "2023-11-24T10:14:58.609099553Z",
     "start_time": "2023-11-24T10:14:58.539530328Z"
    }
   },
   "id": "fd92940792ba2dda"
  },
  {
   "cell_type": "code",
   "execution_count": 18,
   "outputs": [],
   "source": [
    "sort_json_files(source_unsorted_dir, source_dir)"
   ],
   "metadata": {
    "collapsed": false,
    "ExecuteTime": {
     "end_time": "2023-11-24T10:46:41.743001939Z",
     "start_time": "2023-11-24T10:14:58.583170960Z"
    }
   },
   "id": "b71cda00e667fb59"
  },
  {
   "cell_type": "markdown",
   "source": [
    "## Get Mapping video_id -> video directory"
   ],
   "metadata": {
    "collapsed": false
   },
   "id": "898f8836f9169591"
  },
  {
   "cell_type": "code",
   "execution_count": 19,
   "outputs": [],
   "source": [
    "mapping_path = Path('../data/maps/mapping.csv')"
   ],
   "metadata": {
    "collapsed": false,
    "ExecuteTime": {
     "end_time": "2023-11-24T10:46:41.788145099Z",
     "start_time": "2023-11-24T10:46:41.783162059Z"
    }
   },
   "id": "51f4819e2ba7d890"
  },
  {
   "cell_type": "code",
   "execution_count": 20,
   "outputs": [
    {
     "data": {
      "text/plain": "         id                                          directory\n0    id_101       Lewkowska 02062022 - Compression extrinseque\n1    id_102  20230525-090005917_MIN.PROBE18-020-080004 - 20...\n2    id_103  20230525-090005917_MIN.PROBE18-020-080004 - 20...\n3    id_104  20230525-090005917_MIN.PROBE18-020-080004 - 20...\n4    id_105  20230525-090005917_MIN.PROBE18-020-080004 - 20...\n..      ...                                                ...\n142  id_241      video_20210623-183451728 - 20210623-183451728\n143  id_242      video_20210623-173742338 - 20210623-173742338\n144  id_243  Patient 480815MP02 - 20210708 - 20210623-17420...\n145  id_244  Patient 480815MP02 - 20210708 - 20210623-17422...\n146  id_245  Patient 670306MPAA - 20210708 - 20210623-18430...\n\n[147 rows x 2 columns]",
      "text/html": "<div>\n<style scoped>\n    .dataframe tbody tr th:only-of-type {\n        vertical-align: middle;\n    }\n\n    .dataframe tbody tr th {\n        vertical-align: top;\n    }\n\n    .dataframe thead th {\n        text-align: right;\n    }\n</style>\n<table border=\"1\" class=\"dataframe\">\n  <thead>\n    <tr style=\"text-align: right;\">\n      <th></th>\n      <th>id</th>\n      <th>directory</th>\n    </tr>\n  </thead>\n  <tbody>\n    <tr>\n      <th>0</th>\n      <td>id_101</td>\n      <td>Lewkowska 02062022 - Compression extrinseque</td>\n    </tr>\n    <tr>\n      <th>1</th>\n      <td>id_102</td>\n      <td>20230525-090005917_MIN.PROBE18-020-080004 - 20...</td>\n    </tr>\n    <tr>\n      <th>2</th>\n      <td>id_103</td>\n      <td>20230525-090005917_MIN.PROBE18-020-080004 - 20...</td>\n    </tr>\n    <tr>\n      <th>3</th>\n      <td>id_104</td>\n      <td>20230525-090005917_MIN.PROBE18-020-080004 - 20...</td>\n    </tr>\n    <tr>\n      <th>4</th>\n      <td>id_105</td>\n      <td>20230525-090005917_MIN.PROBE18-020-080004 - 20...</td>\n    </tr>\n    <tr>\n      <th>...</th>\n      <td>...</td>\n      <td>...</td>\n    </tr>\n    <tr>\n      <th>142</th>\n      <td>id_241</td>\n      <td>video_20210623-183451728 - 20210623-183451728</td>\n    </tr>\n    <tr>\n      <th>143</th>\n      <td>id_242</td>\n      <td>video_20210623-173742338 - 20210623-173742338</td>\n    </tr>\n    <tr>\n      <th>144</th>\n      <td>id_243</td>\n      <td>Patient 480815MP02 - 20210708 - 20210623-17420...</td>\n    </tr>\n    <tr>\n      <th>145</th>\n      <td>id_244</td>\n      <td>Patient 480815MP02 - 20210708 - 20210623-17422...</td>\n    </tr>\n    <tr>\n      <th>146</th>\n      <td>id_245</td>\n      <td>Patient 670306MPAA - 20210708 - 20210623-18430...</td>\n    </tr>\n  </tbody>\n</table>\n<p>147 rows × 2 columns</p>\n</div>"
     },
     "execution_count": 20,
     "metadata": {},
     "output_type": "execute_result"
    }
   ],
   "source": [
    "df = pd.read_csv(mapping_path)\n",
    "df"
   ],
   "metadata": {
    "collapsed": false,
    "ExecuteTime": {
     "end_time": "2023-11-24T10:46:41.788751127Z",
     "start_time": "2023-11-24T10:46:41.783285638Z"
    }
   },
   "id": "9d17b5260e06b3b7"
  },
  {
   "cell_type": "markdown",
   "source": [
    "## Convert json embeddings to numpy"
   ],
   "metadata": {
    "collapsed": false
   },
   "id": "aeb3b884427de9a"
  },
  {
   "cell_type": "code",
   "execution_count": 21,
   "outputs": [],
   "source": [
    "def save_embeddings_to_npy(json_file, npy_file):\n",
    "    with open(json_file, 'r') as file:\n",
    "        data = json.load(file)\n",
    "\n",
    "    # Extracting \"embedding\" data from json\n",
    "    embeddings = [item['embedding'] for item in data]\n",
    "\n",
    "    # Convert to NumPy\n",
    "    embeddings_array = np.array(embeddings)\n",
    "    if embeddings_array.size == 0:\n",
    "        raise ValueError(f'embeddings_array is empty. No embeddings could be extracted for file: {json_file}')\n",
    "    \n",
    "    # Save as '.npy' file\n",
    "    np.save(npy_file, embeddings_array)"
   ],
   "metadata": {
    "collapsed": false,
    "ExecuteTime": {
     "end_time": "2023-11-24T10:46:41.789407354Z",
     "start_time": "2023-11-24T10:46:41.783366649Z"
    }
   },
   "id": "f4fb3745a8a148c5"
  },
  {
   "cell_type": "code",
   "execution_count": 22,
   "outputs": [
    {
     "name": "stdout",
     "output_type": "stream",
     "text": [
      "index: 0\n",
      "index: 1\n",
      "index: 2\n",
      "index: 3\n",
      "index: 4\n",
      "index: 5\n",
      "index: 6\n",
      "index: 7\n",
      "index: 8\n",
      "index: 9\n",
      "index: 10\n",
      "index: 11\n",
      "index: 12\n",
      "index: 13\n",
      "index: 14\n",
      "index: 15\n",
      "index: 16\n",
      "index: 17\n",
      "index: 18\n",
      "index: 19\n",
      "index: 20\n",
      "index: 21\n",
      "index: 22\n",
      "index: 23\n",
      "index: 24\n",
      "index: 25\n",
      "index: 26\n",
      "index: 27\n",
      "index: 28\n",
      "index: 29\n",
      "index: 30\n",
      "index: 31\n",
      "index: 32\n",
      "index: 33\n",
      "index: 34\n",
      "index: 35\n",
      "index: 36\n",
      "index: 37\n",
      "index: 38\n",
      "index: 39\n",
      "index: 40\n",
      "index: 41\n",
      "index: 42\n",
      "index: 43\n",
      "index: 44\n",
      "index: 45\n",
      "index: 46\n",
      "index: 47\n",
      "index: 48\n",
      "index: 49\n",
      "index: 50\n",
      "index: 51\n",
      "index: 52\n",
      "index: 53\n",
      "index: 54\n",
      "index: 55\n",
      "index: 56\n",
      "index: 57\n",
      "index: 58\n",
      "index: 59\n",
      "index: 60\n",
      "index: 61\n",
      "index: 62\n",
      "index: 63\n",
      "index: 64\n",
      "index: 65\n",
      "index: 66\n",
      "index: 67\n",
      "index: 68\n",
      "index: 69\n",
      "index: 70\n",
      "index: 71\n",
      "index: 72\n",
      "index: 73\n",
      "index: 74\n",
      "index: 75\n",
      "index: 76\n",
      "index: 77\n",
      "index: 78\n",
      "index: 79\n",
      "index: 80\n",
      "index: 81\n",
      "index: 82\n",
      "index: 83\n",
      "index: 84\n",
      "index: 85\n",
      "index: 86\n",
      "index: 87\n",
      "index: 88\n",
      "index: 89\n",
      "index: 90\n",
      "index: 91\n",
      "index: 92\n",
      "index: 93\n",
      "index: 94\n",
      "index: 95\n",
      "index: 96\n",
      "index: 97\n",
      "index: 98\n",
      "index: 99\n",
      "index: 100\n",
      "index: 101\n",
      "index: 102\n",
      "index: 103\n",
      "index: 104\n",
      "index: 105\n",
      "index: 106\n",
      "index: 107\n",
      "index: 108\n",
      "index: 109\n",
      "index: 110\n",
      "index: 111\n",
      "index: 112\n",
      "index: 113\n",
      "index: 114\n",
      "index: 115\n",
      "index: 116\n",
      "index: 117\n",
      "index: 118\n",
      "index: 119\n",
      "index: 120\n",
      "index: 121\n",
      "index: 122\n",
      "index: 123\n",
      "index: 124\n",
      "index: 125\n",
      "index: 126\n",
      "index: 127\n",
      "index: 128\n",
      "index: 129\n",
      "index: 130\n",
      "index: 131\n",
      "index: 132\n",
      "index: 133\n",
      "index: 134\n",
      "index: 135\n",
      "index: 136\n",
      "index: 137\n",
      "index: 138\n",
      "index: 139\n",
      "index: 140\n",
      "index: 141\n",
      "index: 142\n",
      "index: 143\n",
      "index: 144\n",
      "index: 145\n",
      "index: 146\n"
     ]
    }
   ],
   "source": [
    "for index, row in df.iterrows():\n",
    "    npy_file_name = row['id']\n",
    "    json_file_name = row['directory'] + '.json'\n",
    "    source_json_file = Path(source_dir / json_file_name)\n",
    "    dest_file = Path(dest_dir / npy_file_name)\n",
    "    \n",
    "    print(f'index: {index}')\n",
    "    save_embeddings_to_npy(source_json_file, dest_file)"
   ],
   "metadata": {
    "collapsed": false,
    "ExecuteTime": {
     "end_time": "2023-11-24T10:53:09.674084070Z",
     "start_time": "2023-11-24T10:46:41.786977306Z"
    }
   },
   "id": "d4401c9105306451"
  },
  {
   "cell_type": "markdown",
   "source": [
    "# Test data"
   ],
   "metadata": {
    "collapsed": false
   },
   "id": "54c26e0f0c2cffa3"
  },
  {
   "cell_type": "code",
   "execution_count": 23,
   "outputs": [
    {
     "ename": "NameError",
     "evalue": "name 'aa' is not defined",
     "output_type": "error",
     "traceback": [
      "\u001B[0;31m---------------------------------------------------------------------------\u001B[0m",
      "\u001B[0;31mNameError\u001B[0m                                 Traceback (most recent call last)",
      "Cell \u001B[0;32mIn[23], line 1\u001B[0m\n\u001B[0;32m----> 1\u001B[0m \u001B[43maa\u001B[49m\n",
      "\u001B[0;31mNameError\u001B[0m: name 'aa' is not defined"
     ]
    }
   ],
   "source": [
    "aa"
   ],
   "metadata": {
    "collapsed": false,
    "ExecuteTime": {
     "end_time": "2023-11-24T10:53:09.693461724Z",
     "start_time": "2023-11-24T10:53:09.680636532Z"
    }
   },
   "id": "1f4e0c381601bca2"
  },
  {
   "cell_type": "code",
   "execution_count": null,
   "outputs": [],
   "source": [
    "source_unsorted_dir = Path('../data/unsorted_jsons_nnunet_test/') "
   ],
   "metadata": {
    "collapsed": false,
    "ExecuteTime": {
     "start_time": "2023-11-24T10:53:09.695457280Z"
    }
   },
   "id": "e6201642bd030930"
  },
  {
   "cell_type": "code",
   "execution_count": null,
   "outputs": [],
   "source": [
    "source_dir = Path('../data/jsons_nnunet_test/') \n",
    "dest_dir = Path('../data/embeddings_nnunet_test')"
   ],
   "metadata": {
    "collapsed": false,
    "ExecuteTime": {
     "end_time": "2023-11-24T10:53:09.702795615Z",
     "start_time": "2023-11-24T10:53:09.697733567Z"
    }
   },
   "id": "9a93784e8f025285"
  },
  {
   "cell_type": "code",
   "execution_count": null,
   "outputs": [],
   "source": [
    "#sort_json_files(source_unsorted_dir, source_dir)"
   ],
   "metadata": {
    "collapsed": false,
    "ExecuteTime": {
     "start_time": "2023-11-24T10:53:09.739052606Z"
    }
   },
   "id": "4932b2c90df75b37"
  },
  {
   "cell_type": "code",
   "execution_count": null,
   "outputs": [],
   "source": [
    "mapping_path = Path('../data/maps/mapping_test.csv')"
   ],
   "metadata": {
    "collapsed": false,
    "ExecuteTime": {
     "start_time": "2023-11-24T10:53:09.739156039Z"
    }
   },
   "id": "1a0d83863e06c366"
  },
  {
   "cell_type": "code",
   "execution_count": null,
   "outputs": [],
   "source": [
    "for index, row in df.iterrows():\n",
    "    npy_file_name = row['id']\n",
    "    json_file_name = row['directory'] + '.json'\n",
    "    source_json_file = Path(source_dir / json_file_name)\n",
    "    dest_file = Path(dest_dir / npy_file_name)\n",
    "    \n",
    "    print(f'index: {index}')\n",
    "    save_embeddings_to_npy(source_json_file, dest_file)"
   ],
   "metadata": {
    "collapsed": false,
    "ExecuteTime": {
     "start_time": "2023-11-24T10:53:09.739184367Z"
    }
   },
   "id": "728dfbabbb1a8e06"
  },
  {
   "cell_type": "code",
   "execution_count": null,
   "outputs": [],
   "source": [
    "for file_path in glob.glob(os.path.join(source_dir, '*.json')):\n",
    "    print(file_path)"
   ],
   "metadata": {
    "collapsed": false,
    "ExecuteTime": {
     "start_time": "2023-11-24T10:53:09.739208778Z"
    }
   },
   "id": "411ca75203dcab0c"
  },
  {
   "cell_type": "code",
   "execution_count": null,
   "outputs": [],
   "source": [],
   "metadata": {
    "collapsed": false,
    "ExecuteTime": {
     "end_time": "2023-11-24T10:53:09.740450364Z",
     "start_time": "2023-11-24T10:53:09.739232674Z"
    }
   },
   "id": "79b5d327b159602a"
  }
 ],
 "metadata": {
  "kernelspec": {
   "display_name": "Python 3",
   "language": "python",
   "name": "python3"
  },
  "language_info": {
   "codemirror_mode": {
    "name": "ipython",
    "version": 2
   },
   "file_extension": ".py",
   "mimetype": "text/x-python",
   "name": "python",
   "nbconvert_exporter": "python",
   "pygments_lexer": "ipython2",
   "version": "2.7.6"
  }
 },
 "nbformat": 4,
 "nbformat_minor": 5
}
