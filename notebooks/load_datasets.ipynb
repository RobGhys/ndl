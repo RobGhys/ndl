{
 "cells": [
  {
   "cell_type": "markdown",
   "source": [
    "# Test imbalanced sampler for RNN"
   ],
   "metadata": {
    "collapsed": false
   },
   "id": "7b61a07328f96672"
  },
  {
   "cell_type": "code",
   "execution_count": 1,
   "id": "initial_id",
   "metadata": {
    "collapsed": true,
    "ExecuteTime": {
     "end_time": "2023-11-27T16:56:38.380837476Z",
     "start_time": "2023-11-27T16:56:38.380367458Z"
    }
   },
   "outputs": [],
   "source": [
    "%load_ext autoreload\n",
    "%autoreload 2"
   ]
  },
  {
   "cell_type": "code",
   "execution_count": 2,
   "outputs": [],
   "source": [
    "import json\n",
    "import numpy as np\n",
    "import pandas as pd\n",
    "import matplotlib.pyplot as plt\n",
    "\n",
    "from navi.datasets.frames_embeddings import FramesWithContextDataset\n",
    "from navi.transforms import ToTensor\n",
    "from navi.sampler.imbalance_sampler import ImbalancedDatasetSampler"
   ],
   "metadata": {
    "collapsed": false,
    "ExecuteTime": {
     "end_time": "2023-11-27T16:56:40.465612939Z",
     "start_time": "2023-11-27T16:56:38.520360899Z"
    }
   },
   "id": "5c301d9f577e075d"
  },
  {
   "cell_type": "code",
   "execution_count": 5,
   "outputs": [],
   "source": [
    "def load_metadata():\n",
    "    videos = pd.read_csv(\"../data/maps/mapping.csv\")\n",
    "    root = \"/home/rob/Documents/Github/navi_lstm/data/embeddings_nnunet\"\n",
    "    with open(\"../prep/predictions.json\", 'rb') as file:\n",
    "        label_map = json.load(file)\n",
    "    return root, videos, label_map\n",
    "\n",
    "root, videos, label_map = load_metadata()"
   ],
   "metadata": {
    "collapsed": false,
    "ExecuteTime": {
     "end_time": "2023-11-27T16:57:02.261690894Z",
     "start_time": "2023-11-27T16:57:01.759784470Z"
    }
   },
   "id": "168c182a12e71afd"
  },
  {
   "cell_type": "code",
   "execution_count": 6,
   "outputs": [
    {
     "name": "stdout",
     "output_type": "stream",
     "text": [
      "Loading embeddings...\n",
      "Loading targets...\n",
      "Indexing frames...\n",
      "Dataset loaded.\n"
     ]
    },
    {
     "data": {
      "text/plain": "746403"
     },
     "execution_count": 6,
     "metadata": {},
     "output_type": "execute_result"
    }
   ],
   "source": [
    "transform = ToTensor()\n",
    "\n",
    "dataset = FramesWithContextDataset(root, videos, label_map, context_size=5, transform=transform)\n",
    "len(dataset)"
   ],
   "metadata": {
    "collapsed": false,
    "ExecuteTime": {
     "end_time": "2023-11-27T16:57:07.619588533Z",
     "start_time": "2023-11-27T16:57:02.462041599Z"
    }
   },
   "id": "72d93789f28fc662"
  },
  {
   "cell_type": "code",
   "execution_count": 7,
   "outputs": [
    {
     "data": {
      "text/plain": "(torch.Size([6, 2016]), 0)"
     },
     "execution_count": 7,
     "metadata": {},
     "output_type": "execute_result"
    }
   ],
   "source": [
    "example_embedding, example_target = dataset[0]\n",
    "example_embedding.shape, example_target"
   ],
   "metadata": {
    "collapsed": false,
    "ExecuteTime": {
     "end_time": "2023-11-27T16:57:07.652656767Z",
     "start_time": "2023-11-27T16:57:07.608475680Z"
    }
   },
   "id": "73e1ed207e352be2"
  },
  {
   "cell_type": "code",
   "execution_count": 8,
   "outputs": [
    {
     "name": "stdout",
     "output_type": "stream",
     "text": [
      "{0: 617156, 1: 129247}\n"
     ]
    },
    {
     "data": {
      "text/plain": "<Figure size 640x480 with 1 Axes>",
      "image/png": "[encoded data removed]"
     },
     "metadata": {},
     "output_type": "display_data"
    }
   ],
   "source": [
    "counts = {0: 0, 1: 0}\n",
    "for _, target in dataset:\n",
    "    counts[target] += 1\n",
    "counts\n",
    "print(counts)\n",
    "plt.figure()\n",
    "plt.pie(counts.values())\n",
    "plt.show()"
   ],
   "metadata": {
    "collapsed": false,
    "ExecuteTime": {
     "end_time": "2023-11-27T16:57:13.608429817Z",
     "start_time": "2023-11-27T16:57:07.652252669Z"
    }
   },
   "id": "edca0ac888cbe204"
  },
  {
   "cell_type": "code",
   "execution_count": 11,
   "outputs": [
    {
     "ename": "KeyboardInterrupt",
     "evalue": "",
     "output_type": "error",
     "traceback": [
      "\u001B[0;31m---------------------------------------------------------------------------\u001B[0m",
      "\u001B[0;31mKeyboardInterrupt\u001B[0m                         Traceback (most recent call last)",
      "Cell \u001B[0;32mIn[11], line 3\u001B[0m\n\u001B[1;32m      1\u001B[0m \u001B[38;5;28;01mfrom\u001B[39;00m \u001B[38;5;21;01mtorch\u001B[39;00m\u001B[38;5;21;01m.\u001B[39;00m\u001B[38;5;21;01mutils\u001B[39;00m\u001B[38;5;21;01m.\u001B[39;00m\u001B[38;5;21;01mdata\u001B[39;00m \u001B[38;5;28;01mimport\u001B[39;00m DataLoader\n\u001B[0;32m----> 3\u001B[0m sampler \u001B[38;5;241m=\u001B[39m \u001B[43mImbalancedDatasetSampler\u001B[49m\u001B[43m(\u001B[49m\u001B[43mdataset\u001B[49m\u001B[43m,\u001B[49m\u001B[43m \u001B[49m\u001B[43mnum_samples\u001B[49m\u001B[38;5;241;43m=\u001B[39;49m\u001B[38;5;241;43m250000\u001B[39;49m\u001B[43m)\u001B[49m\n\u001B[1;32m      4\u001B[0m data_loader \u001B[38;5;241m=\u001B[39m DataLoader(dataset, batch_size\u001B[38;5;241m=\u001B[39m\u001B[38;5;241m1\u001B[39m, sampler\u001B[38;5;241m=\u001B[39msampler)\n\u001B[1;32m      5\u001B[0m \u001B[38;5;28mnext\u001B[39m(\u001B[38;5;28miter\u001B[39m(data_loader))\n",
      "File \u001B[0;32m~/Documents/Github/navi_lstm/src/navi/sampler/imbalance_sampler.py:50\u001B[0m, in \u001B[0;36mImbalancedDatasetSampler.__init__\u001B[0;34m(self, dataset, indices, num_samples, callback_get_label)\u001B[0m\n\u001B[1;32m     43\u001B[0m \u001B[38;5;28mself\u001B[39m\u001B[38;5;241m.\u001B[39mweights \u001B[38;5;241m=\u001B[39m [\u001B[38;5;241m1.0\u001B[39m \u001B[38;5;241m/\u001B[39m \u001B[38;5;28mself\u001B[39m\u001B[38;5;241m.\u001B[39mcounts[i] \u001B[38;5;28;01mfor\u001B[39;00m i \u001B[38;5;129;01min\u001B[39;00m [\u001B[38;5;241m0\u001B[39m, \u001B[38;5;241m1\u001B[39m]]\n\u001B[1;32m     45\u001B[0m \u001B[38;5;66;03m# weight for each sample\u001B[39;00m\n\u001B[1;32m     46\u001B[0m \u001B[38;5;66;03m# weights = [1.0 / label_to_count[self._get_label(dataset, idx)]\u001B[39;00m\n\u001B[1;32m     47\u001B[0m \u001B[38;5;66;03m#            for idx in self.indices]\u001B[39;00m\n\u001B[1;32m     48\u001B[0m \u001B[38;5;66;03m# self.weights = torch.DoubleTensor(weights)\u001B[39;00m\n\u001B[0;32m---> 50\u001B[0m weights \u001B[38;5;241m=\u001B[39m \u001B[43m[\u001B[49m\u001B[38;5;241;43m1.0\u001B[39;49m\u001B[38;5;241;43m/\u001B[39;49m\u001B[43m(\u001B[49m\u001B[38;5;28;43mself\u001B[39;49m\u001B[38;5;241;43m.\u001B[39;49m\u001B[43mcounts\u001B[49m\u001B[43m[\u001B[49m\u001B[43mdataset\u001B[49m\u001B[43m[\u001B[49m\u001B[43midx\u001B[49m\u001B[43m]\u001B[49m\u001B[43m[\u001B[49m\u001B[38;5;241;43m1\u001B[39;49m\u001B[43m]\u001B[49m\u001B[43m]\u001B[49m\u001B[43m)\u001B[49m\u001B[43m \u001B[49m\u001B[38;5;28;43;01mfor\u001B[39;49;00m\u001B[43m \u001B[49m\u001B[43midx\u001B[49m\u001B[43m \u001B[49m\u001B[38;5;129;43;01min\u001B[39;49;00m\u001B[43m \u001B[49m\u001B[38;5;28;43mself\u001B[39;49m\u001B[38;5;241;43m.\u001B[39;49m\u001B[43mindices\u001B[49m\u001B[43m]\u001B[49m\n\u001B[1;32m     51\u001B[0m \u001B[38;5;28mself\u001B[39m\u001B[38;5;241m.\u001B[39mweights \u001B[38;5;241m=\u001B[39m torch\u001B[38;5;241m.\u001B[39mtensor(weights, dtype\u001B[38;5;241m=\u001B[39mtorch\u001B[38;5;241m.\u001B[39mdouble)\n",
      "File \u001B[0;32m~/Documents/Github/navi_lstm/src/navi/sampler/imbalance_sampler.py:50\u001B[0m, in \u001B[0;36m<listcomp>\u001B[0;34m(.0)\u001B[0m\n\u001B[1;32m     43\u001B[0m \u001B[38;5;28mself\u001B[39m\u001B[38;5;241m.\u001B[39mweights \u001B[38;5;241m=\u001B[39m [\u001B[38;5;241m1.0\u001B[39m \u001B[38;5;241m/\u001B[39m \u001B[38;5;28mself\u001B[39m\u001B[38;5;241m.\u001B[39mcounts[i] \u001B[38;5;28;01mfor\u001B[39;00m i \u001B[38;5;129;01min\u001B[39;00m [\u001B[38;5;241m0\u001B[39m, \u001B[38;5;241m1\u001B[39m]]\n\u001B[1;32m     45\u001B[0m \u001B[38;5;66;03m# weight for each sample\u001B[39;00m\n\u001B[1;32m     46\u001B[0m \u001B[38;5;66;03m# weights = [1.0 / label_to_count[self._get_label(dataset, idx)]\u001B[39;00m\n\u001B[1;32m     47\u001B[0m \u001B[38;5;66;03m#            for idx in self.indices]\u001B[39;00m\n\u001B[1;32m     48\u001B[0m \u001B[38;5;66;03m# self.weights = torch.DoubleTensor(weights)\u001B[39;00m\n\u001B[0;32m---> 50\u001B[0m weights \u001B[38;5;241m=\u001B[39m [\u001B[38;5;241m1.0\u001B[39m\u001B[38;5;241m/\u001B[39m(\u001B[38;5;28mself\u001B[39m\u001B[38;5;241m.\u001B[39mcounts[\u001B[43mdataset\u001B[49m\u001B[43m[\u001B[49m\u001B[43midx\u001B[49m\u001B[43m]\u001B[49m[\u001B[38;5;241m1\u001B[39m]]) \u001B[38;5;28;01mfor\u001B[39;00m idx \u001B[38;5;129;01min\u001B[39;00m \u001B[38;5;28mself\u001B[39m\u001B[38;5;241m.\u001B[39mindices]\n\u001B[1;32m     51\u001B[0m \u001B[38;5;28mself\u001B[39m\u001B[38;5;241m.\u001B[39mweights \u001B[38;5;241m=\u001B[39m torch\u001B[38;5;241m.\u001B[39mtensor(weights, dtype\u001B[38;5;241m=\u001B[39mtorch\u001B[38;5;241m.\u001B[39mdouble)\n",
      "File \u001B[0;32m~/Documents/Github/navi_lstm/src/navi/datasets/frames_embeddings.py:85\u001B[0m, in \u001B[0;36mFramesWithContextDataset.__getitem__\u001B[0;34m(self, index)\u001B[0m\n\u001B[1;32m     82\u001B[0m     frame_with_context \u001B[38;5;241m=\u001B[39m np\u001B[38;5;241m.\u001B[39mpad(frame_with_context, ((padding, \u001B[38;5;241m0\u001B[39m), (\u001B[38;5;241m0\u001B[39m, \u001B[38;5;241m0\u001B[39m)), mode\u001B[38;5;241m=\u001B[39m\u001B[38;5;124m'\u001B[39m\u001B[38;5;124medge\u001B[39m\u001B[38;5;124m'\u001B[39m)\n\u001B[1;32m     84\u001B[0m \u001B[38;5;28;01mif\u001B[39;00m \u001B[38;5;28mself\u001B[39m\u001B[38;5;241m.\u001B[39mtransform \u001B[38;5;129;01mis\u001B[39;00m \u001B[38;5;129;01mnot\u001B[39;00m \u001B[38;5;28;01mNone\u001B[39;00m:\n\u001B[0;32m---> 85\u001B[0m     frame_with_context \u001B[38;5;241m=\u001B[39m \u001B[38;5;28;43mself\u001B[39;49m\u001B[38;5;241;43m.\u001B[39;49m\u001B[43mtransform\u001B[49m\u001B[43m(\u001B[49m\u001B[43mframe_with_context\u001B[49m\u001B[43m)\u001B[49m\n\u001B[1;32m     87\u001B[0m target \u001B[38;5;241m=\u001B[39m \u001B[38;5;28mself\u001B[39m\u001B[38;5;241m.\u001B[39mtargets[embed_idx][frame_idx]\n\u001B[1;32m     88\u001B[0m \u001B[38;5;28;01mreturn\u001B[39;00m frame_with_context, target\n",
      "File \u001B[0;32m~/Documents/Github/navi_lstm/src/navi/transforms/to_tensor.py:9\u001B[0m, in \u001B[0;36mToTensor.__call__\u001B[0;34m(self, x)\u001B[0m\n\u001B[1;32m      8\u001B[0m \u001B[38;5;28;01mdef\u001B[39;00m \u001B[38;5;21m__call__\u001B[39m(\u001B[38;5;28mself\u001B[39m, x):\n\u001B[0;32m----> 9\u001B[0m     \u001B[38;5;28;01mreturn\u001B[39;00m \u001B[43mtorch\u001B[49m\u001B[38;5;241;43m.\u001B[39;49m\u001B[43mfrom_numpy\u001B[49m\u001B[43m(\u001B[49m\u001B[43mx\u001B[49m\u001B[43m)\u001B[49m\u001B[38;5;241;43m.\u001B[39;49m\u001B[43mto\u001B[49m\u001B[43m(\u001B[49m\u001B[38;5;28;43mself\u001B[39;49m\u001B[38;5;241;43m.\u001B[39;49m\u001B[43mdtype\u001B[49m\u001B[43m)\u001B[49m\n",
      "\u001B[0;31mKeyboardInterrupt\u001B[0m: "
     ]
    }
   ],
   "source": [
    "from torch.utils.data import DataLoader\n",
    "\n",
    "sampler = ImbalancedDatasetSampler(dataset, num_samples=250000)\n",
    "data_loader = DataLoader(dataset, batch_size=1, sampler=sampler)\n",
    "next(iter(data_loader))"
   ],
   "metadata": {
    "collapsed": false,
    "ExecuteTime": {
     "end_time": "2023-11-27T17:00:16.393612674Z",
     "start_time": "2023-11-27T17:00:04.165144881Z"
    }
   },
   "id": "e8ca4892182bf59f"
  },
  {
   "cell_type": "code",
   "execution_count": null,
   "outputs": [],
   "source": [
    "counts = {0: 0, 1: 0}\n",
    "for _, target in data_loader:\n",
    "    counts[target[0].item()] += 1\n",
    "counts\n",
    "\n",
    "plt.figure()\n",
    "plt.pie(counts.values())\n",
    "plt.show()"
   ],
   "metadata": {
    "collapsed": false,
    "ExecuteTime": {
     "start_time": "2023-11-27T16:57:13.613399231Z"
    }
   },
   "id": "b4b95c49e6a71de6"
  },
  {
   "cell_type": "code",
   "execution_count": 10,
   "outputs": [
    {
     "data": {
      "text/plain": "'2.0.1+cu117'"
     },
     "execution_count": 10,
     "metadata": {},
     "output_type": "execute_result"
    }
   ],
   "source": [
    "import torch\n",
    "torch.__version__"
   ],
   "metadata": {
    "collapsed": false,
    "ExecuteTime": {
     "end_time": "2023-11-27T16:57:59.656903823Z",
     "start_time": "2023-11-27T16:57:59.610735255Z"
    }
   },
   "id": "da7082ad0b01a347"
  },
  {
   "cell_type": "code",
   "execution_count": null,
   "outputs": [],
   "source": [],
   "metadata": {
    "collapsed": false
   },
   "id": "2ab4405e1f42a686"
  }
 ],
 "metadata": {
  "kernelspec": {
   "display_name": "Python 3",
   "language": "python",
   "name": "python3"
  },
  "language_info": {
   "codemirror_mode": {
    "name": "ipython",
    "version": 2
   },
   "file_extension": ".py",
   "mimetype": "text/x-python",
   "name": "python",
   "nbconvert_exporter": "python",
   "pygments_lexer": "ipython2",
   "version": "2.7.6"
  }
 },
 "nbformat": 4,
 "nbformat_minor": 5
}
