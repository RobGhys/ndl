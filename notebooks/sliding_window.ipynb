{
 "cells": [
  {
   "cell_type": "code",
   "execution_count": 28,
   "id": "initial_id",
   "metadata": {
    "collapsed": true,
    "ExecuteTime": {
     "end_time": "2023-11-20T13:40:21.272178085Z",
     "start_time": "2023-11-20T13:40:21.268203710Z"
    }
   },
   "outputs": [],
   "source": [
    "import numpy as np\n",
    "import torch"
   ]
  },
  {
   "cell_type": "code",
   "execution_count": 29,
   "outputs": [
    {
     "data": {
      "text/plain": "(1, 1500, 2048)"
     },
     "execution_count": 29,
     "metadata": {},
     "output_type": "execute_result"
    }
   ],
   "source": [
    "x = np.random.randn(1, 1500, 2048)\n",
    "x.shape"
   ],
   "metadata": {
    "collapsed": false,
    "ExecuteTime": {
     "end_time": "2023-11-20T13:40:21.688654719Z",
     "start_time": "2023-11-20T13:40:21.623249188Z"
    }
   },
   "id": "57692263376f713a"
  },
  {
   "cell_type": "code",
   "execution_count": 30,
   "outputs": [
    {
     "data": {
      "text/plain": "(1, 1649, 2048)"
     },
     "execution_count": 30,
     "metadata": {},
     "output_type": "execute_result"
    }
   ],
   "source": [
    "window_size = 150\n",
    "x = np.pad(x, ((0, 0), (window_size-1, 0), (0, 0)), mode='edge')\n",
    "x.shape"
   ],
   "metadata": {
    "collapsed": false,
    "ExecuteTime": {
     "end_time": "2023-11-20T13:40:22.041758726Z",
     "start_time": "2023-11-20T13:40:22.030796259Z"
    }
   },
   "id": "23fd909ece98a720"
  },
  {
   "cell_type": "code",
   "execution_count": 31,
   "outputs": [
    {
     "data": {
      "text/plain": "torch.Size([1, 1500, 150, 2048])"
     },
     "execution_count": 31,
     "metadata": {},
     "output_type": "execute_result"
    }
   ],
   "source": [
    "x = torch.from_numpy(x)\n",
    "x = x.unfold(dimension=1, size=window_size, step=1).permute(0, 1, 3, 2)\n",
    "x.shape"
   ],
   "metadata": {
    "collapsed": false,
    "ExecuteTime": {
     "end_time": "2023-11-20T13:40:22.486606112Z",
     "start_time": "2023-11-20T13:40:22.481165960Z"
    }
   },
   "id": "3f918b75730d0d40"
  },
  {
   "cell_type": "code",
   "execution_count": 34,
   "outputs": [
    {
     "name": "stdout",
     "output_type": "stream",
     "text": [
      "torch.Size([150, 2048])\n",
      "torch.Size([2048])\n"
     ]
    }
   ],
   "source": [
    "for window in x[0].unbind():\n",
    "    print(window.shape)\n",
    "    frame = window[-1]\n",
    "    print(frame.shape)\n",
    "    break"
   ],
   "metadata": {
    "collapsed": false,
    "ExecuteTime": {
     "end_time": "2023-11-20T13:41:11.975491752Z",
     "start_time": "2023-11-20T13:41:11.934769106Z"
    }
   },
   "id": "680df2e135657f37"
  },
  {
   "cell_type": "code",
   "execution_count": null,
   "outputs": [],
   "source": [],
   "metadata": {
    "collapsed": false
   },
   "id": "29a1ef44123a4e8"
  }
 ],
 "metadata": {
  "kernelspec": {
   "display_name": "Python 3",
   "language": "python",
   "name": "python3"
  },
  "language_info": {
   "codemirror_mode": {
    "name": "ipython",
    "version": 2
   },
   "file_extension": ".py",
   "mimetype": "text/x-python",
   "name": "python",
   "nbconvert_exporter": "python",
   "pygments_lexer": "ipython2",
   "version": "2.7.6"
  }
 },
 "nbformat": 4,
 "nbformat_minor": 5
}
