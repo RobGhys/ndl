{
 "cells": [
  {
   "cell_type": "code",
   "execution_count": 1,
   "metadata": {},
   "outputs": [],
   "source": [
    "import json\n",
    "import pandas as pd\n",
    "import numpy as np\n",
    "from pathlib import Path"
   ]
  },
  {
   "cell_type": "code",
   "execution_count": 2,
   "metadata": {},
   "outputs": [],
   "source": [
    "current_dir = Path.cwd()\n",
    "mapping_csv_path = current_dir.parent / 'data/maps/mapping.csv'\n",
    "jsons_source = current_dir / 'jsons'\n",
    "destination_file = 'predictions.json'"
   ]
  },
  {
   "cell_type": "code",
   "execution_count": 25,
   "metadata": {},
   "outputs": [],
   "source": [
    "df = pd.read_csv(mapping_csv_path) # df that maps a video id to its folder"
   ]
  },
  {
   "cell_type": "code",
   "execution_count": 22,
   "metadata": {},
   "outputs": [],
   "source": [
    "combined_data: dict = {}\n",
    "\n",
    "for index, row in df.iterrows():\n",
    "    video_id = row['id']\n",
    "    json_file = jsons_source / (row['directory'] + '.json')\n",
    "\n",
    "    if not json_file.is_file():\n",
    "        print(f\"Json file: {json_file} not found.\")\n",
    "        continue\n",
    "    with open(jsons_source / json_file, 'r') as f:\n",
    "        video_data = json.load(f)\n",
    "    \n",
    "    # Add the full content of json file to combined_data dict\n",
    "    combined_data[video_id] = video_data\n",
    "\n",
    "with open(destination_file, 'w') as f:\n",
    "    json.dump(combined_data, f, indent=4)"
   ]
  },
  {
   "cell_type": "markdown",
   "metadata": {},
   "source": [
    "## Order json"
   ]
  },
  {
   "cell_type": "code",
   "execution_count": 22,
   "metadata": {},
   "outputs": [],
   "source": [
    "current_dir = Path.cwd()\n",
    "json_source = current_dir / 'predictions_cnn.json'\n",
    "pred_json_file = 'predictions.json'"
   ]
  },
  {
   "cell_type": "code",
   "execution_count": 23,
   "metadata": {},
   "outputs": [],
   "source": [
    "sorted_data: dict = {}"
   ]
  },
  {
   "cell_type": "code",
   "execution_count": 15,
   "metadata": {},
   "outputs": [],
   "source": [
    "\"\"\" with open(json_source, 'r') as f:\n",
    "    video_data = json.load(f) \"\"\""
   ]
  },
  {
   "cell_type": "code",
   "execution_count": 27,
   "metadata": {},
   "outputs": [],
   "source": [
    "for index, row in df.iterrows():\n",
    "    video_id = row['id']\n",
    "\n",
    "    with open(json_source, 'r') as f:\n",
    "        video_data = json.load(f)\n",
    "    # Add current id, ordered\n",
    "    sorted_data[video_id] = video_data[video_id]\n",
    "\n",
    "\n",
    "#video_id = 'id_110'\n",
    "#video_data[video_id]\n",
    "#sorted_data[video_id] = video_data[video_id]"
   ]
  },
  {
   "cell_type": "code",
   "execution_count": 21,
   "metadata": {},
   "outputs": [],
   "source": [
    "#sorted_data"
   ]
  },
  {
   "cell_type": "code",
   "execution_count": 19,
   "metadata": {},
   "outputs": [],
   "source": [
    "with open(pred_json_file, 'w') as f:\n",
    "    json.dump(sorted_data, f, indent=4)"
   ]
  },
  {
   "cell_type": "code",
   "execution_count": null,
   "metadata": {},
   "outputs": [],
   "source": []
  }
 ],
 "metadata": {
  "kernelspec": {
   "display_name": ".env_new",
   "language": "python",
   "name": "python3"
  },
  "language_info": {
   "codemirror_mode": {
    "name": "ipython",
    "version": 3
   },
   "file_extension": ".py",
   "mimetype": "text/x-python",
   "name": "python",
   "nbconvert_exporter": "python",
   "pygments_lexer": "ipython3",
   "version": "3.11.6"
  }
 },
 "nbformat": 4,
 "nbformat_minor": 2
}
